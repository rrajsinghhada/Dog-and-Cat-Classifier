{
 "cells": [
  {
   "cell_type": "markdown",
   "metadata": {
    "colab_type": "text",
    "id": "EMefrVPCg-60"
   },
   "source": [
    "### Importing the libraries"
   ]
  },
  {
   "cell_type": "code",
   "execution_count": 1,
   "metadata": {
    "colab": {},
    "colab_type": "code",
    "id": "sCV30xyVhFbE"
   },
   "outputs": [],
   "source": [
    "import tensorflow as tf\n",
    "from keras.preprocessing.image import ImageDataGenerator"
   ]
  },
  {
   "cell_type": "code",
   "execution_count": 2,
   "metadata": {
    "colab": {},
    "colab_type": "code",
    "id": "FIleuCAjoFD8"
   },
   "outputs": [
    {
     "data": {
      "text/plain": [
       "'2.12.0'"
      ]
     },
     "execution_count": 2,
     "metadata": {},
     "output_type": "execute_result"
    }
   ],
   "source": [
    "tf.__version__"
   ]
  },
  {
   "cell_type": "markdown",
   "metadata": {
    "colab_type": "text",
    "id": "MvE-heJNo3GG"
   },
   "source": [
    "### Preprocessing the Training set"
   ]
  },
  {
   "cell_type": "code",
   "execution_count": 3,
   "metadata": {
    "colab": {},
    "colab_type": "code",
    "id": "0koUcJMJpEBD"
   },
   "outputs": [
    {
     "name": "stdout",
     "output_type": "stream",
     "text": [
      "Found 8000 images belonging to 2 classes.\n"
     ]
    }
   ],
   "source": [
    "train_datagen = ImageDataGenerator(rescale = 1./255,\n",
    "                                   shear_range = 0.2,\n",
    "                                   zoom_range = 0.2,\n",
    "                                   horizontal_flip = True)\n",
    "training_set = train_datagen.flow_from_directory('dataset/training_set',\n",
    "                                                 target_size = (64, 64),\n",
    "                                                 batch_size = 32,\n",
    "                                                 class_mode = 'binary')"
   ]
  },
  {
   "cell_type": "markdown",
   "metadata": {
    "colab_type": "text",
    "id": "mrCMmGw9pHys"
   },
   "source": [
    "### Preprocessing the Test set"
   ]
  },
  {
   "cell_type": "code",
   "execution_count": 4,
   "metadata": {
    "colab": {},
    "colab_type": "code",
    "id": "SH4WzfOhpKc3"
   },
   "outputs": [
    {
     "name": "stdout",
     "output_type": "stream",
     "text": [
      "Found 2000 images belonging to 2 classes.\n"
     ]
    }
   ],
   "source": [
    "test_datagen = ImageDataGenerator(rescale = 1./255)\n",
    "test_set = test_datagen.flow_from_directory('dataset/test_set',\n",
    "                                            target_size = (64, 64),\n",
    "                                            batch_size = 32,\n",
    "                                            class_mode = 'binary')"
   ]
  },
  {
   "cell_type": "markdown",
   "metadata": {
    "colab_type": "text",
    "id": "ces1gXY2lmoX"
   },
   "source": [
    "### Initialising the CNN"
   ]
  },
  {
   "cell_type": "code",
   "execution_count": 5,
   "metadata": {
    "colab": {},
    "colab_type": "code",
    "id": "SAUt4UMPlhLS"
   },
   "outputs": [
    {
     "name": "stdout",
     "output_type": "stream",
     "text": [
      "Metal device set to: Apple M1\n"
     ]
    }
   ],
   "source": [
    "cnn = tf.keras.models.Sequential()"
   ]
  },
  {
   "cell_type": "markdown",
   "metadata": {
    "colab_type": "text",
    "id": "u5YJj_XMl5LF"
   },
   "source": [
    "### Convolution Layer"
   ]
  },
  {
   "cell_type": "code",
   "execution_count": 6,
   "metadata": {
    "colab": {},
    "colab_type": "code",
    "id": "XPzPrMckl-hV"
   },
   "outputs": [],
   "source": [
    "cnn.add(tf.keras.layers.Conv2D(filters=32, kernel_size=3, activation='relu', input_shape=[64, 64, 3]))"
   ]
  },
  {
   "cell_type": "markdown",
   "metadata": {
    "colab_type": "text",
    "id": "tf87FpvxmNOJ"
   },
   "source": [
    "### Max Pooling"
   ]
  },
  {
   "cell_type": "code",
   "execution_count": 7,
   "metadata": {
    "colab": {},
    "colab_type": "code",
    "id": "ncpqPl69mOac"
   },
   "outputs": [],
   "source": [
    "cnn.add(tf.keras.layers.MaxPool2D(pool_size=2, strides=2))"
   ]
  },
  {
   "cell_type": "markdown",
   "metadata": {
    "colab_type": "text",
    "id": "xaTOgD8rm4mU"
   },
   "source": [
    "### Adding a second convolutional layer"
   ]
  },
  {
   "cell_type": "code",
   "execution_count": 8,
   "metadata": {
    "colab": {},
    "colab_type": "code",
    "id": "i_-FZjn_m8gk"
   },
   "outputs": [],
   "source": [
    "cnn.add(tf.keras.layers.Conv2D(filters=32, kernel_size=3, activation='relu'))\n",
    "cnn.add(tf.keras.layers.MaxPool2D(pool_size=2, strides=2))"
   ]
  },
  {
   "cell_type": "markdown",
   "metadata": {
    "colab_type": "text",
    "id": "tmiEuvTunKfk"
   },
   "source": [
    "### Flattening"
   ]
  },
  {
   "cell_type": "code",
   "execution_count": 9,
   "metadata": {
    "colab": {},
    "colab_type": "code",
    "id": "6AZeOGCvnNZn"
   },
   "outputs": [],
   "source": [
    "cnn.add(tf.keras.layers.Flatten())"
   ]
  },
  {
   "cell_type": "markdown",
   "metadata": {
    "colab_type": "text",
    "id": "dAoSECOm203v"
   },
   "source": [
    "### Full Connection"
   ]
  },
  {
   "cell_type": "code",
   "execution_count": 10,
   "metadata": {
    "colab": {},
    "colab_type": "code",
    "id": "8GtmUlLd26Nq"
   },
   "outputs": [],
   "source": [
    "cnn.add(tf.keras.layers.Dense(units=128, activation='relu'))"
   ]
  },
  {
   "cell_type": "markdown",
   "metadata": {
    "colab_type": "text",
    "id": "yTldFvbX28Na"
   },
   "source": [
    "### Output Layer"
   ]
  },
  {
   "cell_type": "code",
   "execution_count": 11,
   "metadata": {
    "colab": {},
    "colab_type": "code",
    "id": "1p_Zj1Mc3Ko_"
   },
   "outputs": [],
   "source": [
    "cnn.add(tf.keras.layers.Dense(units=1, activation='sigmoid'))"
   ]
  },
  {
   "cell_type": "markdown",
   "metadata": {
    "colab_type": "text",
    "id": "vfrFQACEnc6i"
   },
   "source": [
    "### Compiling the CNN"
   ]
  },
  {
   "cell_type": "code",
   "execution_count": 12,
   "metadata": {
    "colab": {},
    "colab_type": "code",
    "id": "NALksrNQpUlJ"
   },
   "outputs": [],
   "source": [
    "cnn.compile(optimizer = 'adam', loss = 'binary_crossentropy', metrics = ['accuracy'])"
   ]
  },
  {
   "cell_type": "markdown",
   "metadata": {},
   "source": [
    "## Saving Checkpoints"
   ]
  },
  {
   "cell_type": "code",
   "execution_count": 13,
   "metadata": {},
   "outputs": [],
   "source": [
    "import os\n",
    "checkpoint_path = \"Checkpoints/cp.ckpt\"\n",
    "checkpoint_dir = os.path.dirname(checkpoint_path)\n",
    "\n",
    "# Create a callback that saves the model's weights\n",
    "cp_callback = tf.keras.callbacks.ModelCheckpoint(filepath=checkpoint_path,\n",
    "                                                 save_weights_only=True,\n",
    "                                                 verbose=1)\n"
   ]
  },
  {
   "cell_type": "markdown",
   "metadata": {
    "colab_type": "text",
    "id": "ehS-v3MIpX2h"
   },
   "source": [
    "### Training the CNN on the Training set and evaluating it on the Test set "
   ]
  },
  {
   "cell_type": "code",
   "execution_count": 14,
   "metadata": {
    "colab": {},
    "colab_type": "code",
    "id": "XUj1W4PJptta",
    "scrolled": true
   },
   "outputs": [
    {
     "name": "stdout",
     "output_type": "stream",
     "text": [
      "Epoch 1/25\n"
     ]
    },
    {
     "name": "stderr",
     "output_type": "stream",
     "text": [
      "2023-05-27 12:23:49.346487: W tensorflow/tsl/platform/profile_utils/cpu_utils.cc:128] Failed to get CPU frequency: 0 Hz\n"
     ]
    },
    {
     "name": "stdout",
     "output_type": "stream",
     "text": [
      "250/250 [==============================] - ETA: 0s - loss: 0.6800 - accuracy: 0.5583\n",
      "Epoch 1: saving model to Checkpoints/cp.ckpt\n",
      "250/250 [==============================] - 11s 43ms/step - loss: 0.6800 - accuracy: 0.5583 - val_loss: 0.6161 - val_accuracy: 0.6590\n",
      "Epoch 2/25\n",
      "249/250 [============================>.] - ETA: 0s - loss: 0.5997 - accuracy: 0.6835\n",
      "Epoch 2: saving model to Checkpoints/cp.ckpt\n",
      "250/250 [==============================] - 10s 42ms/step - loss: 0.5996 - accuracy: 0.6835 - val_loss: 0.5636 - val_accuracy: 0.7135\n",
      "Epoch 3/25\n",
      "250/250 [==============================] - ETA: 0s - loss: 0.5571 - accuracy: 0.7140\n",
      "Epoch 3: saving model to Checkpoints/cp.ckpt\n",
      "250/250 [==============================] - 11s 42ms/step - loss: 0.5571 - accuracy: 0.7140 - val_loss: 0.5308 - val_accuracy: 0.7410\n",
      "Epoch 4/25\n",
      "249/250 [============================>.] - ETA: 0s - loss: 0.5324 - accuracy: 0.7303\n",
      "Epoch 4: saving model to Checkpoints/cp.ckpt\n",
      "250/250 [==============================] - 10s 42ms/step - loss: 0.5321 - accuracy: 0.7304 - val_loss: 0.5073 - val_accuracy: 0.7585\n",
      "Epoch 5/25\n",
      "249/250 [============================>.] - ETA: 0s - loss: 0.5007 - accuracy: 0.7531\n",
      "Epoch 5: saving model to Checkpoints/cp.ckpt\n",
      "250/250 [==============================] - 10s 42ms/step - loss: 0.5001 - accuracy: 0.7538 - val_loss: 0.5457 - val_accuracy: 0.7445\n",
      "Epoch 6/25\n",
      "250/250 [==============================] - ETA: 0s - loss: 0.4835 - accuracy: 0.7671\n",
      "Epoch 6: saving model to Checkpoints/cp.ckpt\n",
      "250/250 [==============================] - 11s 42ms/step - loss: 0.4835 - accuracy: 0.7671 - val_loss: 0.4805 - val_accuracy: 0.7790\n",
      "Epoch 7/25\n",
      "249/250 [============================>.] - ETA: 0s - loss: 0.4668 - accuracy: 0.7809\n",
      "Epoch 7: saving model to Checkpoints/cp.ckpt\n",
      "250/250 [==============================] - 11s 43ms/step - loss: 0.4665 - accuracy: 0.7811 - val_loss: 0.4780 - val_accuracy: 0.7840\n",
      "Epoch 8/25\n",
      "249/250 [============================>.] - ETA: 0s - loss: 0.4632 - accuracy: 0.7787\n",
      "Epoch 8: saving model to Checkpoints/cp.ckpt\n",
      "250/250 [==============================] - 11s 42ms/step - loss: 0.4634 - accuracy: 0.7786 - val_loss: 0.4745 - val_accuracy: 0.7760\n",
      "Epoch 9/25\n",
      "249/250 [============================>.] - ETA: 0s - loss: 0.4407 - accuracy: 0.7925\n",
      "Epoch 9: saving model to Checkpoints/cp.ckpt\n",
      "250/250 [==============================] - 10s 42ms/step - loss: 0.4403 - accuracy: 0.7929 - val_loss: 0.4743 - val_accuracy: 0.7780\n",
      "Epoch 10/25\n",
      "249/250 [============================>.] - ETA: 0s - loss: 0.4345 - accuracy: 0.7986\n",
      "Epoch 10: saving model to Checkpoints/cp.ckpt\n",
      "250/250 [==============================] - 11s 42ms/step - loss: 0.4341 - accuracy: 0.7991 - val_loss: 0.4627 - val_accuracy: 0.7770\n",
      "Epoch 11/25\n",
      "249/250 [============================>.] - ETA: 0s - loss: 0.4147 - accuracy: 0.8094\n",
      "Epoch 11: saving model to Checkpoints/cp.ckpt\n",
      "250/250 [==============================] - 10s 42ms/step - loss: 0.4149 - accuracy: 0.8092 - val_loss: 0.4815 - val_accuracy: 0.7700\n",
      "Epoch 12/25\n",
      "249/250 [============================>.] - ETA: 0s - loss: 0.4127 - accuracy: 0.8105\n",
      "Epoch 12: saving model to Checkpoints/cp.ckpt\n",
      "250/250 [==============================] - 11s 42ms/step - loss: 0.4125 - accuracy: 0.8108 - val_loss: 0.4462 - val_accuracy: 0.8070\n",
      "Epoch 13/25\n",
      "249/250 [============================>.] - ETA: 0s - loss: 0.3969 - accuracy: 0.8189\n",
      "Epoch 13: saving model to Checkpoints/cp.ckpt\n",
      "250/250 [==============================] - 11s 43ms/step - loss: 0.3971 - accuracy: 0.8186 - val_loss: 0.4617 - val_accuracy: 0.8010\n",
      "Epoch 14/25\n",
      "249/250 [============================>.] - ETA: 0s - loss: 0.3862 - accuracy: 0.8264\n",
      "Epoch 14: saving model to Checkpoints/cp.ckpt\n",
      "250/250 [==============================] - 11s 42ms/step - loss: 0.3862 - accuracy: 0.8263 - val_loss: 0.5176 - val_accuracy: 0.7615\n",
      "Epoch 15/25\n",
      "249/250 [============================>.] - ETA: 0s - loss: 0.3821 - accuracy: 0.8256\n",
      "Epoch 15: saving model to Checkpoints/cp.ckpt\n",
      "250/250 [==============================] - 11s 43ms/step - loss: 0.3819 - accuracy: 0.8257 - val_loss: 0.4514 - val_accuracy: 0.8060\n",
      "Epoch 16/25\n",
      "249/250 [============================>.] - ETA: 0s - loss: 0.3576 - accuracy: 0.8399\n",
      "Epoch 16: saving model to Checkpoints/cp.ckpt\n",
      "250/250 [==============================] - 11s 43ms/step - loss: 0.3575 - accuracy: 0.8399 - val_loss: 0.4603 - val_accuracy: 0.7895\n",
      "Epoch 17/25\n",
      "249/250 [============================>.] - ETA: 0s - loss: 0.3479 - accuracy: 0.8440\n",
      "Epoch 17: saving model to Checkpoints/cp.ckpt\n",
      "250/250 [==============================] - 11s 42ms/step - loss: 0.3483 - accuracy: 0.8435 - val_loss: 0.4524 - val_accuracy: 0.8075\n",
      "Epoch 18/25\n",
      "249/250 [============================>.] - ETA: 0s - loss: 0.3423 - accuracy: 0.8481\n",
      "Epoch 18: saving model to Checkpoints/cp.ckpt\n",
      "250/250 [==============================] - 11s 42ms/step - loss: 0.3427 - accuracy: 0.8476 - val_loss: 0.4654 - val_accuracy: 0.8035\n",
      "Epoch 19/25\n",
      "249/250 [============================>.] - ETA: 0s - loss: 0.3309 - accuracy: 0.8559\n",
      "Epoch 19: saving model to Checkpoints/cp.ckpt\n",
      "250/250 [==============================] - 11s 43ms/step - loss: 0.3307 - accuracy: 0.8559 - val_loss: 0.4241 - val_accuracy: 0.8185\n",
      "Epoch 20/25\n",
      "249/250 [============================>.] - ETA: 0s - loss: 0.3216 - accuracy: 0.8560\n",
      "Epoch 20: saving model to Checkpoints/cp.ckpt\n",
      "250/250 [==============================] - 11s 42ms/step - loss: 0.3214 - accuracy: 0.8561 - val_loss: 0.4601 - val_accuracy: 0.8210\n",
      "Epoch 21/25\n",
      "250/250 [==============================] - ETA: 0s - loss: 0.3206 - accuracy: 0.8595\n",
      "Epoch 21: saving model to Checkpoints/cp.ckpt\n",
      "250/250 [==============================] - 11s 43ms/step - loss: 0.3206 - accuracy: 0.8595 - val_loss: 0.4299 - val_accuracy: 0.8225\n",
      "Epoch 22/25\n",
      "249/250 [============================>.] - ETA: 0s - loss: 0.3046 - accuracy: 0.8667\n",
      "Epoch 22: saving model to Checkpoints/cp.ckpt\n",
      "250/250 [==============================] - 11s 43ms/step - loss: 0.3044 - accuracy: 0.8669 - val_loss: 0.4651 - val_accuracy: 0.8060\n",
      "Epoch 23/25\n",
      "249/250 [============================>.] - ETA: 0s - loss: 0.2881 - accuracy: 0.8789\n",
      "Epoch 23: saving model to Checkpoints/cp.ckpt\n",
      "250/250 [==============================] - 11s 42ms/step - loss: 0.2881 - accuracy: 0.8786 - val_loss: 0.4848 - val_accuracy: 0.8055\n",
      "Epoch 24/25\n",
      "249/250 [============================>.] - ETA: 0s - loss: 0.2848 - accuracy: 0.8759\n",
      "Epoch 24: saving model to Checkpoints/cp.ckpt\n",
      "250/250 [==============================] - 11s 43ms/step - loss: 0.2845 - accuracy: 0.8759 - val_loss: 0.4532 - val_accuracy: 0.8160\n",
      "Epoch 25/25\n",
      "249/250 [============================>.] - ETA: 0s - loss: 0.2616 - accuracy: 0.8907\n",
      "Epoch 25: saving model to Checkpoints/cp.ckpt\n",
      "250/250 [==============================] - 11s 43ms/step - loss: 0.2625 - accuracy: 0.8906 - val_loss: 0.5597 - val_accuracy: 0.7840\n"
     ]
    },
    {
     "data": {
      "text/plain": [
       "<keras.callbacks.History at 0x172604550>"
      ]
     },
     "execution_count": 14,
     "metadata": {},
     "output_type": "execute_result"
    }
   ],
   "source": [
    "cnn.fit(x = training_set, validation_data = test_set, epochs = 25,callbacks=[cp_callback])"
   ]
  },
  {
   "cell_type": "markdown",
   "metadata": {
    "colab_type": "text",
    "id": "U3PZasO0006Z"
   },
   "source": [
    "## Making prediction"
   ]
  },
  {
   "cell_type": "code",
   "execution_count": 15,
   "metadata": {},
   "outputs": [],
   "source": [
    "import numpy as np\n",
    "from keras.preprocessing import image\n",
    "from matplotlib import pyplot as plt"
   ]
  },
  {
   "cell_type": "code",
   "execution_count": 19,
   "metadata": {},
   "outputs": [
    {
     "data": {
      "text/plain": [
       "<matplotlib.image.AxesImage at 0x2bfe61180>"
      ]
     },
     "execution_count": 19,
     "metadata": {},
     "output_type": "execute_result"
    },
    {
     "data": {
      "image/png": "[encoded data removed]",
      "text/plain": [
       "<Figure size 640x480 with 1 Axes>"
      ]
     },
     "metadata": {},
     "output_type": "display_data"
    }
   ],
   "source": [
    "Path = 'dataset/single_prediction/cat_or_dog_1.jpg' #Image path\n",
    "test_image = tf.keras.utils.load_img(Path, target_size = (64, 64))\n",
    "plt.imshow(test_image)"
   ]
  },
  {
   "cell_type": "code",
   "execution_count": 20,
   "metadata": {
    "colab": {},
    "colab_type": "code",
    "id": "gsSiWEJY1BPB"
   },
   "outputs": [
    {
     "name": "stdout",
     "output_type": "stream",
     "text": [
      "1/1 [==============================] - 0s 17ms/step\n"
     ]
    }
   ],
   "source": [
    "\n",
    "test_image = tf.keras.utils.img_to_array(test_image)\n",
    "test_image = np.expand_dims(test_image, axis = 0)\n",
    "result = cnn.predict(test_image)\n",
    "training_set.class_indices\n",
    "if result[0][0] == 1:\n",
    "  prediction = 'dog'\n",
    "else:\n",
    "  prediction = 'cat'"
   ]
  },
  {
   "cell_type": "code",
   "execution_count": 21,
   "metadata": {
    "colab": {},
    "colab_type": "code",
    "id": "ED9KB3I54c1i"
   },
   "outputs": [
    {
     "name": "stdout",
     "output_type": "stream",
     "text": [
      "dog\n"
     ]
    }
   ],
   "source": [
    "print(prediction)"
   ]
  },
  {
   "cell_type": "code",
   "execution_count": null,
   "metadata": {},
   "outputs": [],
   "source": []
  }
 ],
 "metadata": {
  "colab": {
   "collapsed_sections": [],
   "name": "convolutional_neural_network.ipynb",
   "provenance": [],
   "toc_visible": true
  },
  "kernelspec": {
   "display_name": "Python 3.10 (tensorflow)",
   "language": "python",
   "name": "tensorflow"
  },
  "language_info": {
   "codemirror_mode": {
    "name": "ipython",
    "version": 3
   },
   "file_extension": ".py",
   "mimetype": "text/x-python",
   "name": "python",
   "nbconvert_exporter": "python",
   "pygments_lexer": "ipython3",
   "version": "3.10.10"
  }
 },
 "nbformat": 4,
 "nbformat_minor": 1
}
