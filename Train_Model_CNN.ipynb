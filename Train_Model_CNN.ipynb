{
 "cells": [
  {
   "cell_type": "markdown",
   "metadata": {
    "colab_type": "text",
    "id": "3DR-eO17geWu"
   },
   "source": [
    "# Convolutional Neural Network"
   ]
  },
  {
   "cell_type": "markdown",
   "metadata": {
    "colab_type": "text",
    "id": "EMefrVPCg-60"
   },
   "source": [
    "### Importing the libraries"
   ]
  },
  {
   "cell_type": "code",
   "execution_count": 1,
   "metadata": {
    "colab": {},
    "colab_type": "code",
    "id": "sCV30xyVhFbE"
   },
   "outputs": [],
   "source": [
    "import tensorflow as tf\n",
    "from keras.preprocessing.image import ImageDataGenerator"
   ]
  },
  {
   "cell_type": "code",
   "execution_count": 2,
   "metadata": {
    "colab": {},
    "colab_type": "code",
    "id": "FIleuCAjoFD8"
   },
   "outputs": [
    {
     "data": {
      "text/plain": [
       "'2.12.0'"
      ]
     },
     "execution_count": 2,
     "metadata": {},
     "output_type": "execute_result"
    }
   ],
   "source": [
    "tf.__version__"
   ]
  },
  {
   "cell_type": "markdown",
   "metadata": {
    "colab_type": "text",
    "id": "MvE-heJNo3GG"
   },
   "source": [
    "### Preprocessing the Training set"
   ]
  },
  {
   "cell_type": "code",
   "execution_count": 3,
   "metadata": {
    "colab": {},
    "colab_type": "code",
    "id": "0koUcJMJpEBD"
   },
   "outputs": [
    {
     "name": "stdout",
     "output_type": "stream",
     "text": [
      "Found 8000 images belonging to 2 classes.\n"
     ]
    }
   ],
   "source": [
    "train_datagen = ImageDataGenerator(rescale = 1./255,\n",
    "                                   shear_range = 0.2,\n",
    "                                   zoom_range = 0.2,\n",
    "                                   horizontal_flip = True)\n",
    "training_set = train_datagen.flow_from_directory('dataset/training_set',\n",
    "                                                 target_size = (64, 64),\n",
    "                                                 batch_size = 32,\n",
    "                                                 class_mode = 'binary')"
   ]
  },
  {
   "cell_type": "markdown",
   "metadata": {
    "colab_type": "text",
    "id": "mrCMmGw9pHys"
   },
   "source": [
    "### Preprocessing the Test set"
   ]
  },
  {
   "cell_type": "code",
   "execution_count": 4,
   "metadata": {
    "colab": {},
    "colab_type": "code",
    "id": "SH4WzfOhpKc3"
   },
   "outputs": [
    {
     "name": "stdout",
     "output_type": "stream",
     "text": [
      "Found 2000 images belonging to 2 classes.\n"
     ]
    }
   ],
   "source": [
    "test_datagen = ImageDataGenerator(rescale = 1./255)\n",
    "test_set = test_datagen.flow_from_directory('dataset/test_set',\n",
    "                                            target_size = (64, 64),\n",
    "                                            batch_size = 32,\n",
    "                                            class_mode = 'binary')"
   ]
  },
  {
   "cell_type": "markdown",
   "metadata": {
    "colab_type": "text",
    "id": "ces1gXY2lmoX"
   },
   "source": [
    "### Initialising the CNN"
   ]
  },
  {
   "cell_type": "code",
   "execution_count": 5,
   "metadata": {
    "colab": {},
    "colab_type": "code",
    "id": "SAUt4UMPlhLS"
   },
   "outputs": [
    {
     "name": "stdout",
     "output_type": "stream",
     "text": [
      "Metal device set to: Apple M1\n"
     ]
    }
   ],
   "source": [
    "cnn = tf.keras.models.Sequential()"
   ]
  },
  {
   "cell_type": "markdown",
   "metadata": {
    "colab_type": "text",
    "id": "u5YJj_XMl5LF"
   },
   "source": [
    "### Convolution Layer"
   ]
  },
  {
   "cell_type": "code",
   "execution_count": 6,
   "metadata": {
    "colab": {},
    "colab_type": "code",
    "id": "XPzPrMckl-hV"
   },
   "outputs": [],
   "source": [
    "cnn.add(tf.keras.layers.Conv2D(filters=32, kernel_size=3, activation='relu', input_shape=[64, 64, 3]))"
   ]
  },
  {
   "cell_type": "markdown",
   "metadata": {
    "colab_type": "text",
    "id": "tf87FpvxmNOJ"
   },
   "source": [
    "### Max Pooling"
   ]
  },
  {
   "cell_type": "code",
   "execution_count": 7,
   "metadata": {
    "colab": {},
    "colab_type": "code",
    "id": "ncpqPl69mOac"
   },
   "outputs": [],
   "source": [
    "cnn.add(tf.keras.layers.MaxPool2D(pool_size=2, strides=2))"
   ]
  },
  {
   "cell_type": "markdown",
   "metadata": {
    "colab_type": "text",
    "id": "xaTOgD8rm4mU"
   },
   "source": [
    "### Adding a second convolutional layer"
   ]
  },
  {
   "cell_type": "code",
   "execution_count": 8,
   "metadata": {
    "colab": {},
    "colab_type": "code",
    "id": "i_-FZjn_m8gk"
   },
   "outputs": [],
   "source": [
    "cnn.add(tf.keras.layers.Conv2D(filters=32, kernel_size=3, activation='relu'))\n",
    "cnn.add(tf.keras.layers.MaxPool2D(pool_size=2, strides=2))"
   ]
  },
  {
   "cell_type": "markdown",
   "metadata": {
    "colab_type": "text",
    "id": "tmiEuvTunKfk"
   },
   "source": [
    "### Flattening"
   ]
  },
  {
   "cell_type": "code",
   "execution_count": 9,
   "metadata": {
    "colab": {},
    "colab_type": "code",
    "id": "6AZeOGCvnNZn"
   },
   "outputs": [],
   "source": [
    "cnn.add(tf.keras.layers.Flatten())"
   ]
  },
  {
   "cell_type": "markdown",
   "metadata": {
    "colab_type": "text",
    "id": "dAoSECOm203v"
   },
   "source": [
    "### Full Connection"
   ]
  },
  {
   "cell_type": "code",
   "execution_count": 1,
   "metadata": {
    "colab": {},
    "colab_type": "code",
    "id": "8GtmUlLd26Nq"
   },
   "outputs": [
    {
     "ename": "NameError",
     "evalue": "name 'cnn' is not defined",
     "output_type": "error",
     "traceback": [
      "\u001b[0;31m---------------------------------------------------------------------------\u001b[0m",
      "\u001b[0;31mNameError\u001b[0m                                 Traceback (most recent call last)",
      "Cell \u001b[0;32mIn[1], line 1\u001b[0m\n\u001b[0;32m----> 1\u001b[0m \u001b[43mcnn\u001b[49m\u001b[38;5;241m.\u001b[39madd(tf\u001b[38;5;241m.\u001b[39mkeras\u001b[38;5;241m.\u001b[39mlayers\u001b[38;5;241m.\u001b[39mDense(units\u001b[38;5;241m=\u001b[39m\u001b[38;5;241m128\u001b[39m, activation\u001b[38;5;241m=\u001b[39m\u001b[38;5;124m'\u001b[39m\u001b[38;5;124mrelu\u001b[39m\u001b[38;5;124m'\u001b[39m))\n",
      "\u001b[0;31mNameError\u001b[0m: name 'cnn' is not defined"
     ]
    }
   ],
   "source": [
    "cnn.add(tf.keras.layers.Dense(units=128, activation='relu'))"
   ]
  },
  {
   "cell_type": "markdown",
   "metadata": {
    "colab_type": "text",
    "id": "yTldFvbX28Na"
   },
   "source": [
    "### Output Layer"
   ]
  },
  {
   "cell_type": "code",
   "execution_count": 11,
   "metadata": {
    "colab": {},
    "colab_type": "code",
    "id": "1p_Zj1Mc3Ko_"
   },
   "outputs": [],
   "source": [
    "cnn.add(tf.keras.layers.Dense(units=1, activation='sigmoid'))"
   ]
  },
  {
   "cell_type": "markdown",
   "metadata": {
    "colab_type": "text",
    "id": "vfrFQACEnc6i"
   },
   "source": [
    "### Compiling the CNN"
   ]
  },
  {
   "cell_type": "code",
   "execution_count": 12,
   "metadata": {
    "colab": {},
    "colab_type": "code",
    "id": "NALksrNQpUlJ"
   },
   "outputs": [],
   "source": [
    "cnn.compile(optimizer = 'adam', loss = 'binary_crossentropy', metrics = ['accuracy'])"
   ]
  },
  {
   "cell_type": "markdown",
   "metadata": {},
   "source": [
    "## Saving Checkpoints"
   ]
  },
  {
   "cell_type": "code",
   "execution_count": 26,
   "metadata": {},
   "outputs": [],
   "source": [
    "import os\n",
    "checkpoint_path = \"Checkpoints/cp.ckpt\"\n",
    "checkpoint_dir = os.path.dirname(checkpoint_path)\n",
    "\n",
    "# Create a callback that saves the model's weights\n",
    "cp_callback = tf.keras.callbacks.ModelCheckpoint(filepath=checkpoint_path,\n",
    "                                                 save_weights_only=True,\n",
    "                                                 verbose=1)\n"
   ]
  },
  {
   "cell_type": "markdown",
   "metadata": {
    "colab_type": "text",
    "id": "ehS-v3MIpX2h"
   },
   "source": [
    "### Training the CNN on the Training set and evaluating it on the Test set "
   ]
  },
  {
   "cell_type": "code",
   "execution_count": 27,
   "metadata": {
    "colab": {},
    "colab_type": "code",
    "id": "XUj1W4PJptta"
   },
   "outputs": [
    {
     "name": "stdout",
     "output_type": "stream",
     "text": [
      "Epoch 1/25\n",
      "249/250 [============================>.] - ETA: 0s - loss: 0.2719 - accuracy: 0.8879\n",
      "Epoch 1: saving model to Checkpoints/cp.ckpt\n",
      "250/250 [==============================] - 11s 43ms/step - loss: 0.2727 - accuracy: 0.8876 - val_loss: 0.5263 - val_accuracy: 0.7850\n",
      "Epoch 2/25\n",
      "249/250 [============================>.] - ETA: 0s - loss: 0.2787 - accuracy: 0.8825\n",
      "Epoch 2: saving model to Checkpoints/cp.ckpt\n",
      "250/250 [==============================] - 11s 42ms/step - loss: 0.2788 - accuracy: 0.8824 - val_loss: 0.4709 - val_accuracy: 0.7935\n",
      "Epoch 3/25\n",
      "250/250 [==============================] - ETA: 0s - loss: 0.2674 - accuracy: 0.8890\n",
      "Epoch 3: saving model to Checkpoints/cp.ckpt\n",
      "250/250 [==============================] - 11s 43ms/step - loss: 0.2674 - accuracy: 0.8890 - val_loss: 0.5383 - val_accuracy: 0.7950\n",
      "Epoch 4/25\n",
      "250/250 [==============================] - ETA: 0s - loss: 0.2508 - accuracy: 0.8959\n",
      "Epoch 4: saving model to Checkpoints/cp.ckpt\n",
      "250/250 [==============================] - 11s 43ms/step - loss: 0.2508 - accuracy: 0.8959 - val_loss: 0.5909 - val_accuracy: 0.7870\n",
      "Epoch 5/25\n",
      "249/250 [============================>.] - ETA: 0s - loss: 0.2437 - accuracy: 0.8966\n",
      "Epoch 5: saving model to Checkpoints/cp.ckpt\n",
      "250/250 [==============================] - 11s 43ms/step - loss: 0.2433 - accuracy: 0.8967 - val_loss: 0.5482 - val_accuracy: 0.7975\n",
      "Epoch 6/25\n",
      "249/250 [============================>.] - ETA: 0s - loss: 0.2440 - accuracy: 0.8967\n",
      "Epoch 6: saving model to Checkpoints/cp.ckpt\n",
      "250/250 [==============================] - 11s 43ms/step - loss: 0.2439 - accuracy: 0.8969 - val_loss: 0.5054 - val_accuracy: 0.8085\n",
      "Epoch 7/25\n",
      "249/250 [============================>.] - ETA: 0s - loss: 0.2292 - accuracy: 0.9037\n",
      "Epoch 7: saving model to Checkpoints/cp.ckpt\n",
      "250/250 [==============================] - 11s 43ms/step - loss: 0.2299 - accuracy: 0.9032 - val_loss: 0.5745 - val_accuracy: 0.8030\n",
      "Epoch 8/25\n",
      "249/250 [============================>.] - ETA: 0s - loss: 0.2240 - accuracy: 0.9049\n",
      "Epoch 8: saving model to Checkpoints/cp.ckpt\n",
      "250/250 [==============================] - 11s 44ms/step - loss: 0.2247 - accuracy: 0.9045 - val_loss: 0.5446 - val_accuracy: 0.7925\n",
      "Epoch 9/25\n",
      "249/250 [============================>.] - ETA: 0s - loss: 0.2289 - accuracy: 0.9056\n",
      "Epoch 9: saving model to Checkpoints/cp.ckpt\n",
      "250/250 [==============================] - 11s 43ms/step - loss: 0.2283 - accuracy: 0.9060 - val_loss: 0.5383 - val_accuracy: 0.8010\n",
      "Epoch 10/25\n",
      "249/250 [============================>.] - ETA: 0s - loss: 0.2017 - accuracy: 0.9224\n",
      "Epoch 10: saving model to Checkpoints/cp.ckpt\n",
      "250/250 [==============================] - 11s 42ms/step - loss: 0.2015 - accuracy: 0.9225 - val_loss: 0.7066 - val_accuracy: 0.7660\n",
      "Epoch 11/25\n",
      "249/250 [============================>.] - ETA: 0s - loss: 0.2038 - accuracy: 0.9148\n",
      "Epoch 11: saving model to Checkpoints/cp.ckpt\n",
      "250/250 [==============================] - 11s 42ms/step - loss: 0.2042 - accuracy: 0.9146 - val_loss: 0.6079 - val_accuracy: 0.7970\n",
      "Epoch 12/25\n",
      "249/250 [============================>.] - ETA: 0s - loss: 0.1923 - accuracy: 0.9206\n",
      "Epoch 12: saving model to Checkpoints/cp.ckpt\n",
      "250/250 [==============================] - 11s 43ms/step - loss: 0.1922 - accuracy: 0.9206 - val_loss: 0.5945 - val_accuracy: 0.7955\n",
      "Epoch 13/25\n",
      "249/250 [============================>.] - ETA: 0s - loss: 0.1881 - accuracy: 0.9282\n",
      "Epoch 13: saving model to Checkpoints/cp.ckpt\n",
      "250/250 [==============================] - 11s 43ms/step - loss: 0.1881 - accuracy: 0.9280 - val_loss: 0.6892 - val_accuracy: 0.7705\n",
      "Epoch 14/25\n",
      "249/250 [============================>.] - ETA: 0s - loss: 0.1811 - accuracy: 0.9265\n",
      "Epoch 14: saving model to Checkpoints/cp.ckpt\n",
      "250/250 [==============================] - 11s 43ms/step - loss: 0.1810 - accuracy: 0.9265 - val_loss: 0.6281 - val_accuracy: 0.7915\n",
      "Epoch 15/25\n",
      "249/250 [============================>.] - ETA: 0s - loss: 0.1793 - accuracy: 0.9267\n",
      "Epoch 15: saving model to Checkpoints/cp.ckpt\n",
      "250/250 [==============================] - 11s 42ms/step - loss: 0.1799 - accuracy: 0.9268 - val_loss: 0.6107 - val_accuracy: 0.7950\n",
      "Epoch 16/25\n",
      "250/250 [==============================] - ETA: 0s - loss: 0.1801 - accuracy: 0.9280\n",
      "Epoch 16: saving model to Checkpoints/cp.ckpt\n",
      "250/250 [==============================] - 11s 43ms/step - loss: 0.1801 - accuracy: 0.9280 - val_loss: 0.6264 - val_accuracy: 0.7945\n",
      "Epoch 17/25\n",
      "249/250 [============================>.] - ETA: 0s - loss: 0.1613 - accuracy: 0.9354\n",
      "Epoch 17: saving model to Checkpoints/cp.ckpt\n",
      "250/250 [==============================] - 11s 43ms/step - loss: 0.1622 - accuracy: 0.9350 - val_loss: 0.6858 - val_accuracy: 0.7815\n",
      "Epoch 18/25\n",
      "249/250 [============================>.] - ETA: 0s - loss: 0.1599 - accuracy: 0.9347\n",
      "Epoch 18: saving model to Checkpoints/cp.ckpt\n",
      "250/250 [==============================] - 11s 43ms/step - loss: 0.1601 - accuracy: 0.9346 - val_loss: 0.6429 - val_accuracy: 0.7945\n",
      "Epoch 19/25\n",
      "249/250 [============================>.] - ETA: 0s - loss: 0.1628 - accuracy: 0.9350\n",
      "Epoch 19: saving model to Checkpoints/cp.ckpt\n",
      "250/250 [==============================] - 11s 44ms/step - loss: 0.1627 - accuracy: 0.9351 - val_loss: 0.6435 - val_accuracy: 0.7965\n",
      "Epoch 20/25\n",
      "249/250 [============================>.] - ETA: 0s - loss: 0.1449 - accuracy: 0.9413\n",
      "Epoch 20: saving model to Checkpoints/cp.ckpt\n",
      "250/250 [==============================] - 11s 43ms/step - loss: 0.1451 - accuracy: 0.9410 - val_loss: 0.8529 - val_accuracy: 0.7695\n",
      "Epoch 21/25\n",
      "249/250 [============================>.] - ETA: 0s - loss: 0.1441 - accuracy: 0.9426\n",
      "Epoch 21: saving model to Checkpoints/cp.ckpt\n",
      "250/250 [==============================] - 11s 43ms/step - loss: 0.1451 - accuracy: 0.9423 - val_loss: 0.6454 - val_accuracy: 0.8010\n",
      "Epoch 22/25\n",
      "249/250 [============================>.] - ETA: 0s - loss: 0.1437 - accuracy: 0.9416\n",
      "Epoch 22: saving model to Checkpoints/cp.ckpt\n",
      "250/250 [==============================] - 11s 43ms/step - loss: 0.1434 - accuracy: 0.9417 - val_loss: 0.7086 - val_accuracy: 0.8010\n",
      "Epoch 23/25\n",
      "249/250 [============================>.] - ETA: 0s - loss: 0.1377 - accuracy: 0.9460\n",
      "Epoch 23: saving model to Checkpoints/cp.ckpt\n",
      "250/250 [==============================] - 11s 43ms/step - loss: 0.1374 - accuracy: 0.9461 - val_loss: 0.6952 - val_accuracy: 0.8070\n",
      "Epoch 24/25\n",
      "249/250 [============================>.] - ETA: 0s - loss: 0.1371 - accuracy: 0.9464\n",
      "Epoch 24: saving model to Checkpoints/cp.ckpt\n",
      "250/250 [==============================] - 11s 43ms/step - loss: 0.1371 - accuracy: 0.9465 - val_loss: 0.7058 - val_accuracy: 0.8010\n",
      "Epoch 25/25\n",
      "249/250 [============================>.] - ETA: 0s - loss: 0.1254 - accuracy: 0.9513\n",
      "Epoch 25: saving model to Checkpoints/cp.ckpt\n",
      "250/250 [==============================] - 11s 43ms/step - loss: 0.1252 - accuracy: 0.9514 - val_loss: 0.7459 - val_accuracy: 0.8065\n"
     ]
    },
    {
     "data": {
      "text/plain": [
       "<keras.callbacks.History at 0x2b73e2350>"
      ]
     },
     "execution_count": 27,
     "metadata": {},
     "output_type": "execute_result"
    }
   ],
   "source": [
    "cnn.fit(x = training_set, validation_data = test_set, epochs = 25,callbacks=[cp_callback])"
   ]
  },
  {
   "cell_type": "markdown",
   "metadata": {
    "colab_type": "text",
    "id": "U3PZasO0006Z"
   },
   "source": [
    "## Making prediction"
   ]
  },
  {
   "cell_type": "code",
   "execution_count": 28,
   "metadata": {
    "colab": {},
    "colab_type": "code",
    "id": "gsSiWEJY1BPB"
   },
   "outputs": [
    {
     "name": "stdout",
     "output_type": "stream",
     "text": [
      "1/1 [==============================] - 0s 21ms/step\n"
     ]
    }
   ],
   "source": [
    "import numpy as np\n",
    "from keras.preprocessing import image\n",
    "test_image = tf.keras.utils.load_img('dataset/single_prediction/cat_or_dog_1.jpg', target_size = (64, 64))\n",
    "test_image = tf.keras.utils.img_to_array(test_image)\n",
    "test_image = np.expand_dims(test_image, axis = 0)\n",
    "result = cnn.predict(test_image)\n",
    "training_set.class_indices\n",
    "if result[0][0] == 1:\n",
    "  prediction = 'dog'\n",
    "else:\n",
    "  prediction = 'cat'"
   ]
  },
  {
   "cell_type": "code",
   "execution_count": 29,
   "metadata": {
    "colab": {},
    "colab_type": "code",
    "id": "ED9KB3I54c1i"
   },
   "outputs": [
    {
     "name": "stdout",
     "output_type": "stream",
     "text": [
      "dog\n"
     ]
    }
   ],
   "source": [
    "print(prediction)"
   ]
  }
 ],
 "metadata": {
  "colab": {
   "collapsed_sections": [],
   "name": "convolutional_neural_network.ipynb",
   "provenance": [],
   "toc_visible": true
  },
  "kernelspec": {
   "display_name": "Python 3.10 (tensorflow)",
   "language": "python",
   "name": "tensorflow"
  },
  "language_info": {
   "codemirror_mode": {
    "name": "ipython",
    "version": 3
   },
   "file_extension": ".py",
   "mimetype": "text/x-python",
   "name": "python",
   "nbconvert_exporter": "python",
   "pygments_lexer": "ipython3",
   "version": "3.10.10"
  }
 },
 "nbformat": 4,
 "nbformat_minor": 1
}
